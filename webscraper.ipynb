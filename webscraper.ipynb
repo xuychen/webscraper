{
 "cells": [
  {
   "cell_type": "code",
   "execution_count": 1,
   "metadata": {},
   "outputs": [],
   "source": [
    "import datetime as dt\n",
    "import pandas as pd\n",
    "from bs4 import BeautifulSoup\n",
    "from urllib.request import urlopen"
   ]
  },
  {
   "cell_type": "code",
   "execution_count": 2,
   "metadata": {},
   "outputs": [],
   "source": [
    "date = pd.date_range(dt.date(2019,1,1).strftime(\"%Y-%m-%dT%H:%M:%S+00:00\"), periods=365, freq='D', name=\"date\")\n",
    "dataframe = pd.DataFrame(date, columns = [\"date\", \"value\"])\n",
    "dataframe.fillna(0, inplace=True)"
   ]
  },
  {
   "cell_type": "code",
   "execution_count": 3,
   "metadata": {},
   "outputs": [],
   "source": [
    "html = urlopen(\n",
    "    \"https://en.wikipedia.org/wiki/2019_in_spaceflight#Orbital_launches\"\n",
    ").read().decode('utf-8')\n",
    "\n",
    "soup = BeautifulSoup(html, features='lxml')\n",
    "orbitTable = soup.find(\"table\", class_=\"wikitable\")\n",
    "\n",
    "good_answers = ['Successful', 'Operational', 'En Route']\n",
    "# the two style that answers ('Successful', 'Operational', 'En Route') resides at\n",
    "style_options = [\"background: #e8eeee\", \"background: #f0f6f6; font-size: small;\"]\n",
    "\n",
    "# find all <tr> tags\n",
    "trs = orbitTable.find_all(\"tr\")\n",
    "\n",
    "i = 0\n",
    "while i < len(trs):\n",
    "    tr = trs[i]\n",
    "    date_td = tr.contents[1]\n",
    "    \n",
    "    # where the date locates\n",
    "    if date_td.name == \"td\" and not tr.get(\"style\", None) and date_td.get(\"rowspan\", None):\n",
    "        key = date_td.contents[0].contents[0].rstrip()\n",
    "        key_datetime = dt.datetime.strptime(key, \"%d %B\").timetuple().tm_yday # time to index\n",
    "        \n",
    "        i += 1\n",
    "        flag = False\n",
    "        # find all answers\n",
    "        while i < len(trs) and trs[i].get(\"style\", None) in style_options:\n",
    "            if trs[i].contents[-1].contents[0].rstrip() in good_answers: # if it has good answer\n",
    "                flag = True\n",
    "            i += 1\n",
    "        \n",
    "        # consider as good launch\n",
    "        if flag:\n",
    "            dataframe.loc[key_datetime-1, \"value\"] += 1\n",
    "    else:        \n",
    "        i += 1"
   ]
  },
  {
   "cell_type": "code",
   "execution_count": 4,
   "metadata": {},
   "outputs": [],
   "source": [
    "# to csv file\n",
    "dataframe.to_csv(\"output.csv\", index=False)"
   ]
  },
  {
   "cell_type": "code",
   "execution_count": null,
   "metadata": {},
   "outputs": [],
   "source": []
  }
 ],
 "metadata": {
  "kernelspec": {
   "display_name": "Python 3",
   "language": "python",
   "name": "python3"
  },
  "language_info": {
   "codemirror_mode": {
    "name": "ipython",
    "version": 3
   },
   "file_extension": ".py",
   "mimetype": "text/x-python",
   "name": "python",
   "nbconvert_exporter": "python",
   "pygments_lexer": "ipython3",
   "version": "3.6.9"
  }
 },
 "nbformat": 4,
 "nbformat_minor": 2
}
